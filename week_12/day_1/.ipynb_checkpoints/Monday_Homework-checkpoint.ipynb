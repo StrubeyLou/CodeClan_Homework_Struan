{
 "cells": [
  {
   "cell_type": "code",
   "execution_count": 21,
   "id": "ab84c004",
   "metadata": {},
   "outputs": [],
   "source": [
    "shopping = ['spam', 'ham', 'eggs', 'ham']"
   ]
  },
  {
   "cell_type": "code",
   "execution_count": 16,
   "id": "c0dd5cd4",
   "metadata": {},
   "outputs": [
    {
     "data": {
      "text/plain": [
       "['spam', 'ham', 'eggs', 'ham']"
      ]
     },
     "execution_count": 16,
     "metadata": {},
     "output_type": "execute_result"
    }
   ],
   "source": [
    "shopping"
   ]
  },
  {
   "cell_type": "code",
   "execution_count": 22,
   "id": "567b0fee",
   "metadata": {},
   "outputs": [],
   "source": [
    "del(shopping[1])"
   ]
  },
  {
   "cell_type": "code",
   "execution_count": 18,
   "id": "f10b6be4",
   "metadata": {},
   "outputs": [
    {
     "data": {
      "text/plain": [
       "['spam', 'eggs', 'ham']"
      ]
     },
     "execution_count": 18,
     "metadata": {},
     "output_type": "execute_result"
    }
   ],
   "source": [
    "shopping"
   ]
  },
  {
   "cell_type": "code",
   "execution_count": 25,
   "id": "e0a537e2",
   "metadata": {},
   "outputs": [],
   "source": [
    "del(shopping[0:2])"
   ]
  },
  {
   "cell_type": "code",
   "execution_count": 26,
   "id": "2a35df92",
   "metadata": {},
   "outputs": [
    {
     "data": {
      "text/plain": [
       "['ham']"
      ]
     },
     "execution_count": 26,
     "metadata": {},
     "output_type": "execute_result"
    }
   ],
   "source": [
    "shopping"
   ]
  },
  {
   "cell_type": "code",
   "execution_count": 27,
   "id": "03c88e54",
   "metadata": {},
   "outputs": [],
   "source": [
    "del(shopping[0])"
   ]
  },
  {
   "cell_type": "code",
   "execution_count": 28,
   "id": "503094d3",
   "metadata": {},
   "outputs": [
    {
     "data": {
      "text/plain": [
       "[]"
      ]
     },
     "execution_count": 28,
     "metadata": {},
     "output_type": "execute_result"
    }
   ],
   "source": [
    "shopping"
   ]
  },
  {
   "cell_type": "code",
   "execution_count": 55,
   "id": "e66c3f39",
   "metadata": {},
   "outputs": [],
   "source": [
    "stops = [\"Croy\", \"Cumbernauld\", \"Falkirk High\", \"Linlithgow\", \"Livingston\", \"Haymarket\"]"
   ]
  },
  {
   "cell_type": "code",
   "execution_count": 56,
   "id": "bc0b1b6f",
   "metadata": {},
   "outputs": [
    {
     "data": {
      "text/plain": [
       "['Croy',\n",
       " 'Cumbernauld',\n",
       " 'Falkirk High',\n",
       " 'Linlithgow',\n",
       " 'Livingston',\n",
       " 'Haymarket']"
      ]
     },
     "execution_count": 56,
     "metadata": {},
     "output_type": "execute_result"
    }
   ],
   "source": [
    "stops"
   ]
  },
  {
   "cell_type": "code",
   "execution_count": 57,
   "id": "328dcc30",
   "metadata": {},
   "outputs": [],
   "source": [
    "stops.append(\"Edinburgh Waverly\")"
   ]
  },
  {
   "cell_type": "code",
   "execution_count": 44,
   "id": "4e6b7240",
   "metadata": {},
   "outputs": [
    {
     "data": {
      "text/plain": [
       "['Croy',\n",
       " 'Cumbernauld',\n",
       " 'Falkirk High',\n",
       " 'Linlithgow',\n",
       " 'Livingston',\n",
       " 'Haymarket',\n",
       " 'Edinburgh Waverly']"
      ]
     },
     "execution_count": 44,
     "metadata": {},
     "output_type": "execute_result"
    }
   ],
   "source": [
    "stops"
   ]
  },
  {
   "cell_type": "code",
   "execution_count": 58,
   "id": "fa353aeb",
   "metadata": {},
   "outputs": [],
   "source": [
    "stops.insert(0, \"Queen Street\")"
   ]
  },
  {
   "cell_type": "code",
   "execution_count": 46,
   "id": "e05c385b",
   "metadata": {},
   "outputs": [
    {
     "data": {
      "text/plain": [
       "['Queen Street',\n",
       " 'Croy',\n",
       " 'Cumbernauld',\n",
       " 'Falkirk High',\n",
       " 'Linlithgow',\n",
       " 'Livingston',\n",
       " 'Haymarket',\n",
       " 'Edinburgh Waverly']"
      ]
     },
     "execution_count": 46,
     "metadata": {},
     "output_type": "execute_result"
    }
   ],
   "source": [
    "stops"
   ]
  },
  {
   "cell_type": "code",
   "execution_count": 59,
   "id": "19499107",
   "metadata": {},
   "outputs": [
    {
     "name": "stdout",
     "output_type": "stream",
     "text": [
      "At index 1: Croy\n"
     ]
    }
   ],
   "source": [
    "print(\"At index 1:\", stops[1])"
   ]
  },
  {
   "cell_type": "code",
   "execution_count": 60,
   "id": "a0c336d7",
   "metadata": {},
   "outputs": [],
   "source": [
    "stops.insert(4, \"Polmont\")"
   ]
  },
  {
   "cell_type": "code",
   "execution_count": 50,
   "id": "147e0533",
   "metadata": {},
   "outputs": [
    {
     "data": {
      "text/plain": [
       "['Queen Street',\n",
       " 'Croy',\n",
       " 'Cumbernauld',\n",
       " 'Falkirk High',\n",
       " 'Polmont',\n",
       " 'Linlithgow',\n",
       " 'Livingston',\n",
       " 'Haymarket',\n",
       " 'Edinburgh Waverly']"
      ]
     },
     "execution_count": 50,
     "metadata": {},
     "output_type": "execute_result"
    }
   ],
   "source": [
    "stops"
   ]
  },
  {
   "cell_type": "code",
   "execution_count": 61,
   "id": "7f2ff530",
   "metadata": {},
   "outputs": [],
   "source": [
    "del(stops[8])"
   ]
  },
  {
   "cell_type": "code",
   "execution_count": 52,
   "id": "fd00f8d9",
   "metadata": {},
   "outputs": [
    {
     "data": {
      "text/plain": [
       "['Queen Street',\n",
       " 'Croy',\n",
       " 'Cumbernauld',\n",
       " 'Falkirk High',\n",
       " 'Polmont',\n",
       " 'Linlithgow',\n",
       " 'Livingston',\n",
       " 'Haymarket']"
      ]
     },
     "execution_count": 52,
     "metadata": {},
     "output_type": "execute_result"
    }
   ],
   "source": [
    "stops"
   ]
  },
  {
   "cell_type": "code",
   "execution_count": 62,
   "id": "93703b87",
   "metadata": {},
   "outputs": [],
   "source": [
    "del(stops[0:8])"
   ]
  },
  {
   "cell_type": "code",
   "execution_count": 63,
   "id": "616ec7e9",
   "metadata": {},
   "outputs": [
    {
     "data": {
      "text/plain": [
       "[]"
      ]
     },
     "execution_count": 63,
     "metadata": {},
     "output_type": "execute_result"
    }
   ],
   "source": [
    "stops"
   ]
  },
  {
   "cell_type": "code",
   "execution_count": 64,
   "id": "8af689b4",
   "metadata": {},
   "outputs": [],
   "source": [
    "person = {\"name\": \"Steph\", \"age\": 31, \"Instructor\" : True}"
   ]
  },
  {
   "cell_type": "code",
   "execution_count": 65,
   "id": "2bf8aabd",
   "metadata": {},
   "outputs": [
    {
     "data": {
      "text/plain": [
       "dict_keys(['name', 'age', 'Instructor'])"
      ]
     },
     "execution_count": 65,
     "metadata": {},
     "output_type": "execute_result"
    }
   ],
   "source": [
    "person.keys()"
   ]
  },
  {
   "cell_type": "code",
   "execution_count": 66,
   "id": "10f4f70c",
   "metadata": {},
   "outputs": [
    {
     "data": {
      "text/plain": [
       "dict_values(['Steph', 31, True])"
      ]
     },
     "execution_count": 66,
     "metadata": {},
     "output_type": "execute_result"
    }
   ],
   "source": [
    "person.values()"
   ]
  },
  {
   "cell_type": "code",
   "execution_count": 67,
   "id": "3dd7ee28",
   "metadata": {},
   "outputs": [
    {
     "data": {
      "text/plain": [
       "dict_items([('name', 'Steph'), ('age', 31), ('Instructor', True)])"
      ]
     },
     "execution_count": 67,
     "metadata": {},
     "output_type": "execute_result"
    }
   ],
   "source": [
    "person.items()"
   ]
  },
  {
   "cell_type": "code",
   "execution_count": 74,
   "id": "c97f05ab",
   "metadata": {},
   "outputs": [],
   "source": [
    "person[\"Email\"] = \"steph@codeclan.com\""
   ]
  },
  {
   "cell_type": "code",
   "execution_count": 75,
   "id": "1ccc926f",
   "metadata": {},
   "outputs": [
    {
     "data": {
      "text/plain": [
       "{'name': 'Steph', 'age': 31, 'Instructor': True, 'Email': 'steph@codeclan.com'}"
      ]
     },
     "execution_count": 75,
     "metadata": {},
     "output_type": "execute_result"
    }
   ],
   "source": [
    "person"
   ]
  },
  {
   "cell_type": "code",
   "execution_count": 76,
   "id": "dfaa9dae",
   "metadata": {},
   "outputs": [],
   "source": [
    "del(person[\"Instructor\"])"
   ]
  },
  {
   "cell_type": "code",
   "execution_count": 77,
   "id": "39bb0b6e",
   "metadata": {},
   "outputs": [
    {
     "data": {
      "text/plain": [
       "{'name': 'Steph', 'age': 31, 'Email': 'steph@codeclan.com'}"
      ]
     },
     "execution_count": 77,
     "metadata": {},
     "output_type": "execute_result"
    }
   ],
   "source": [
    "person"
   ]
  },
  {
   "cell_type": "code",
   "execution_count": 91,
   "id": "bd38f820",
   "metadata": {},
   "outputs": [],
   "source": [
    "numbers = [1, 6, 2, 2, 7, 1, 6, 13, 99, 7]"
   ]
  },
  {
   "cell_type": "code",
   "execution_count": 79,
   "id": "acbedb41",
   "metadata": {},
   "outputs": [
    {
     "name": "stdout",
     "output_type": "stream",
     "text": [
      "[6, 2, 2, 6]\n"
     ]
    }
   ],
   "source": [
    "even_numbers = []\n",
    "for num in numbers:\n",
    "    if num % 2 == 0:\n",
    "        even_numbers.append(num)\n",
    "\n",
    "print(even_numbers)"
   ]
  },
  {
   "cell_type": "code",
   "execution_count": 93,
   "id": "aaa63476",
   "metadata": {},
   "outputs": [
    {
     "name": "stdout",
     "output_type": "stream",
     "text": [
      "98\n"
     ]
    }
   ],
   "source": [
    "difference = max(numbers) - min(numbers)\n",
    "\n",
    "print(difference)"
   ]
  },
  {
   "cell_type": "code",
   "execution_count": 82,
   "id": "0147f4e8",
   "metadata": {},
   "outputs": [
    {
     "name": "stdout",
     "output_type": "stream",
     "text": [
      "True\n"
     ]
    }
   ],
   "source": [
    "for i in range(len(numbers)-1):\n",
    "    if numbers[i] == 2 and numbers[i+1] == 2:\n",
    "        print(True)\n",
    "        break\n",
    "else:\n",
    "    print(False)"
   ]
  },
  {
   "cell_type": "code",
   "execution_count": 96,
   "id": "b8474174",
   "metadata": {},
   "outputs": [
    {
     "name": "stdout",
     "output_type": "stream",
     "text": [
      "4\n"
     ]
    }
   ],
   "source": [
    "\n",
    "for num in numbers:\n",
    "    if num == 6:\n",
    "        ignore = True\n",
    "    elif num == 7:\n",
    "        ignore = False\n",
    "    elif not ignore:\n",
    "        total += num\n",
    "\n",
    "print(total)\n"
   ]
  },
  {
   "cell_type": "code",
   "execution_count": 98,
   "id": "b36150af",
   "metadata": {},
   "outputs": [
    {
     "name": "stdout",
     "output_type": "stream",
     "text": [
      "Woo Python!\n"
     ]
    }
   ],
   "source": [
    "python_is_fun = True\n",
    "python_is_weird = True\n",
    "\n",
    "if python_is_fun or python_is_weird:\n",
    "    print(\"Woo Python!\")\n",
    "else:\n",
    "    print(\"Python is not for me!\")"
   ]
  },
  {
   "cell_type": "code",
   "execution_count": 100,
   "id": "1b832d0a",
   "metadata": {},
   "outputs": [
    {
     "name": "stdout",
     "output_type": "stream",
     "text": [
      "Python is not for me!\n"
     ]
    }
   ],
   "source": [
    "python_is_fun = False\n",
    "python_is_weird = False\n",
    "\n",
    "if python_is_fun or python_is_weird:\n",
    "    print(\"Woo Python!\")\n",
    "else:\n",
    "    print(\"Python is not for me!\")"
   ]
  },
  {
   "cell_type": "code",
   "execution_count": 101,
   "id": "3c919f90",
   "metadata": {},
   "outputs": [
    {
     "name": "stdout",
     "output_type": "stream",
     "text": [
      "Woo Python!\n"
     ]
    }
   ],
   "source": [
    "python_is_fun = False\n",
    "python_is_weird = True\n",
    "\n",
    "if python_is_fun or python_is_weird:\n",
    "    print(\"Woo Python!\")\n",
    "else:\n",
    "    print(\"Python is not for me!\")"
   ]
  },
  {
   "cell_type": "code",
   "execution_count": 102,
   "id": "f8dcf710",
   "metadata": {},
   "outputs": [
    {
     "name": "stdout",
     "output_type": "stream",
     "text": [
      "Woo Python!\n"
     ]
    }
   ],
   "source": [
    "python_is_fun = True\n",
    "python_is_weird = False\n",
    "\n",
    "if python_is_fun or python_is_weird:\n",
    "    print(\"Woo Python!\")\n",
    "else:\n",
    "    print(\"Python is not for me!\")"
   ]
  },
  {
   "cell_type": "code",
   "execution_count": 103,
   "id": "014de65c",
   "metadata": {},
   "outputs": [],
   "source": [
    "def collect_eggs(chickens):\n",
    "    total_eggs = 0\n",
    "\n",
    "    for chicken in chickens:\n",
    "        total_eggs += chicken[\"eggs\"]\n",
    "        chicken[\"eggs\"] = 0 # eggs have been collected\n",
    "\n",
    "    return f\"{total_eggs} eggs collected\"\n"
   ]
  },
  {
   "cell_type": "code",
   "execution_count": 104,
   "id": "20137c8c",
   "metadata": {},
   "outputs": [
    {
     "name": "stdout",
     "output_type": "stream",
     "text": [
      "4 eggs collected\n"
     ]
    }
   ],
   "source": [
    "chickens = [\n",
    "  { \"name\": \"Margaret\", \"age\": 2, \"eggs\": 0 },\n",
    "  { \"name\": \"Hetty\", \"age\": 1, \"eggs\": 2 },\n",
    "  { \"name\": \"Henrietta\", \"age\": 3, \"eggs\": 1 },\n",
    "  { \"name\": \"Audrey\", \"age\": 2, \"eggs\": 0 },\n",
    "  { \"name\": \"Mabel\", \"age\": 5, \"eggs\": 1 },\n",
    "]\n",
    "\n",
    "result = collect_eggs(chickens)\n",
    "print(result)"
   ]
  },
  {
   "cell_type": "code",
   "execution_count": 105,
   "id": "d88f48e4",
   "metadata": {},
   "outputs": [],
   "source": [
    "united_kingdom = [\n",
    "  {\n",
    "    \"name\": \"Scotland\",\n",
    "    \"population\": 5295000,\n",
    "    \"capital\": \"Edinburgh\"\n",
    "  },\n",
    "  {\n",
    "    \"name\": \"Wales\",\n",
    "    \"population\": 3063000,\n",
    "    \"capital\": \"Swansea\"\n",
    "  },\n",
    "  {\n",
    "    \"name\": \"England\",\n",
    "    \"population\": 53010000,\n",
    "    \"capital\": \"London\"\n",
    "  }\n",
    "]"
   ]
  },
  {
   "cell_type": "code",
   "execution_count": 106,
   "id": "37bd1064",
   "metadata": {},
   "outputs": [],
   "source": [
    "for country in united_kingdom:\n",
    "    if country[\"name\"] == \"Wales\":\n",
    "        country[\"capital\"] = \"Cardiff\""
   ]
  },
  {
   "cell_type": "code",
   "execution_count": 107,
   "id": "98d225ba",
   "metadata": {},
   "outputs": [
    {
     "data": {
      "text/plain": [
       "[{'name': 'Scotland', 'population': 5295000, 'capital': 'Edinburgh'},\n",
       " {'name': 'Wales', 'population': 3063000, 'capital': 'Cardiff'},\n",
       " {'name': 'England', 'population': 53010000, 'capital': 'London'}]"
      ]
     },
     "execution_count": 107,
     "metadata": {},
     "output_type": "execute_result"
    }
   ],
   "source": [
    "united_kingdom"
   ]
  },
  {
   "cell_type": "code",
   "execution_count": 108,
   "id": "7350b499",
   "metadata": {},
   "outputs": [],
   "source": [
    "northern_ireland = {\n",
    "    \"name\": \"Northern Ireland\",\n",
    "    \"population\": 1811000,\n",
    "    \"capital\": \"Belfast\"\n",
    "}\n",
    "\n",
    "united_kingdom.append(northern_ireland)"
   ]
  },
  {
   "cell_type": "code",
   "execution_count": 109,
   "id": "d022ae28",
   "metadata": {},
   "outputs": [
    {
     "data": {
      "text/plain": [
       "[{'name': 'Scotland', 'population': 5295000, 'capital': 'Edinburgh'},\n",
       " {'name': 'Wales', 'population': 3063000, 'capital': 'Cardiff'},\n",
       " {'name': 'England', 'population': 53010000, 'capital': 'London'},\n",
       " {'name': 'Northern Ireland', 'population': 1811000, 'capital': 'Belfast'}]"
      ]
     },
     "execution_count": 109,
     "metadata": {},
     "output_type": "execute_result"
    }
   ],
   "source": [
    "united_kingdom"
   ]
  },
  {
   "cell_type": "code",
   "execution_count": 110,
   "id": "9e06b706",
   "metadata": {},
   "outputs": [
    {
     "name": "stdout",
     "output_type": "stream",
     "text": [
      "Scotland\n",
      "Wales\n",
      "England\n",
      "Northern Ireland\n"
     ]
    }
   ],
   "source": [
    "for country in united_kingdom:\n",
    "    print(country[\"name\"])"
   ]
  },
  {
   "cell_type": "code",
   "execution_count": 112,
   "id": "da4ec507",
   "metadata": {},
   "outputs": [
    {
     "name": "stdout",
     "output_type": "stream",
     "text": [
      "Total population of the UK: 63179000\n"
     ]
    }
   ],
   "source": [
    "total_population = 0\n",
    "\n",
    "for country in united_kingdom:\n",
    "    total_population += country[\"population\"]\n",
    "\n",
    "print(\"Total population of the UK:\", total_population)"
   ]
  },
  {
   "cell_type": "code",
   "execution_count": null,
   "id": "f5ac47ec",
   "metadata": {},
   "outputs": [],
   "source": []
  }
 ],
 "metadata": {
  "kernelspec": {
   "display_name": "Python 3 (ipykernel)",
   "language": "python",
   "name": "python3"
  },
  "language_info": {
   "codemirror_mode": {
    "name": "ipython",
    "version": 3
   },
   "file_extension": ".py",
   "mimetype": "text/x-python",
   "name": "python",
   "nbconvert_exporter": "python",
   "pygments_lexer": "ipython3",
   "version": "3.9.13"
  }
 },
 "nbformat": 4,
 "nbformat_minor": 5
}
